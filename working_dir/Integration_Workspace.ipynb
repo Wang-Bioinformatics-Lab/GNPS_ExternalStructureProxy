{
 "cells": [
  {
   "cell_type": "code",
   "execution_count": 1,
   "metadata": {
    "collapsed": true
   },
   "outputs": [],
   "source": [
    "import json"
   ]
  },
  {
   "cell_type": "code",
   "execution_count": 2,
   "metadata": {
    "collapsed": true
   },
   "outputs": [],
   "source": [
    "data_list = json.loads(open(\"gnpslibraryjson.json\").read())"
   ]
  },
  {
   "cell_type": "code",
   "execution_count": 4,
   "metadata": {
    "collapsed": true
   },
   "outputs": [],
   "source": [
    "new_data_list = []\n",
    "for element in data_list:\n",
    "    if len(element[\"InChIKey_inchi\"]) < 5 and len(element[\"InChIKey_smiles\"]) < 5:\n",
    "        continue\n",
    "    new_data_list.append(element)"
   ]
  },
  {
   "cell_type": "code",
   "execution_count": 20,
   "metadata": {},
   "outputs": [
    {
     "name": "stdout",
     "output_type": "stream",
     "text": [
      "GNPS Library Entries with INCHIKEY 77252\n"
     ]
    },
    {
     "data": {
      "text/plain": [
       "17134708"
      ]
     },
     "execution_count": 20,
     "metadata": {},
     "output_type": "execute_result"
    }
   ],
   "source": [
    "#Formatting\n",
    "output_list = []\n",
    "for element in new_data_list:\n",
    "    inchi_key = element[\"InChIKey_inchi\"]\n",
    "    if len(element[\"InChIKey_smiles\"]) > len(inchi_key):\n",
    "        inchi_key = element[\"InChIKey_smiles\"]\n",
    "    \n",
    "    output_dict = {}\n",
    "    output_dict[\"GNPSID\"] = element[\"spectrum_id\"]\n",
    "    output_dict[\"COMPOUND_NAME\"] = element[\"Name\"]\n",
    "    output_dict[\"COMPOUND_INCHIKEY\"] = inchi_key\n",
    "    \n",
    "    output_list.append(output_dict)\n",
    "    \n",
    "print(\"GNPS Library Entries with INCHIKEY\", len(output_list))\n",
    "open(\"gnpslibraryjson_filtered.json\", \"w\").write(json.dumps(output_list, indent=4))"
   ]
  },
  {
   "cell_type": "code",
   "execution_count": 12,
   "metadata": {
    "collapsed": true
   },
   "outputs": [],
   "source": [
    "discordant_list = [element for element in new_data_list \\\n",
    "                   if (len(element[\"InChIKey_inchi\"]) == len(element[\"InChIKey_smiles\"]) \\\n",
    "                       and element[\"InChIKey_inchi\"].split(\"-\")[0] != element[\"InChIKey_smiles\"].split(\"-\")[0])]"
   ]
  },
  {
   "cell_type": "code",
   "execution_count": 14,
   "metadata": {},
   "outputs": [
    {
     "data": {
      "text/plain": [
       "10"
      ]
     },
     "execution_count": 14,
     "metadata": {},
     "output_type": "execute_result"
    }
   ],
   "source": [
    "len(discordant_list)"
   ]
  },
  {
   "cell_type": "code",
   "execution_count": 15,
   "metadata": {},
   "outputs": [
    {
     "data": {
      "text/plain": [
       "{'InChI': 'InChI=1S/C15H21N3O2/c1-15-7-8-17(3)13(15)18(4)12-6-5-10(9-11(12)15)20-14(19)16-2/h5-6,9,13H,7-8H2,1-4H3,(H,16,19)',\n",
       " 'InChIKey_inchi': 'PIJVFDBKTWXHHD-UHFFFAOYSA-N',\n",
       " 'InChIKey_smiles': 'MVAWJSIDNICKHF-UHFFFAOYSA-N',\n",
       " 'Name': 'N-acetyl-5-hydroxytryptamine',\n",
       " 'SMILES': 'OC1=CC=C(NC=C2CCNC(C)=O)C2=C1',\n",
       " 'spectrum_id': 'CCMSLIB00000081266',\n",
       " 'url': 'https://gnps.ucsd.edu/ProteoSAFe/gnpslibraryspectrum.jsp?SpectrumID=CCMSLIB00000081266'}"
      ]
     },
     "execution_count": 15,
     "metadata": {},
     "output_type": "execute_result"
    }
   ],
   "source": [
    "discordant_list[0]"
   ]
  },
  {
   "cell_type": "code",
   "execution_count": 14,
   "metadata": {
    "collapsed": true
   },
   "outputs": [],
   "source": [
    "import requests\n",
    "import json\n",
    "import pandas as pd"
   ]
  },
  {
   "cell_type": "code",
   "execution_count": 3,
   "metadata": {
    "collapsed": true,
    "scrolled": true
   },
   "outputs": [],
   "source": [
    "r = requests.get(\"http://dorresteinappshub.ucsd.edu:5010/gnpslibraryfornpatlasjson\")\n",
    "gnps_list = r.json()"
   ]
  },
  {
   "cell_type": "code",
   "execution_count": 60,
   "metadata": {},
   "outputs": [
    {
     "data": {
      "text/plain": [
       "77252"
      ]
     },
     "execution_count": 60,
     "metadata": {},
     "output_type": "execute_result"
    }
   ],
   "source": [
    "len(gnps_list)"
   ]
  },
  {
   "cell_type": "code",
   "execution_count": 6,
   "metadata": {
    "collapsed": true
   },
   "outputs": [],
   "source": [
    "npatlas_list = json.load(open(\"data/npatlas.json\", encoding='utf-8', errors='strict'), strict=False)"
   ]
  },
  {
   "cell_type": "code",
   "execution_count": 38,
   "metadata": {
    "collapsed": true
   },
   "outputs": [],
   "source": [
    "all_gnps_keys = set([element[\"COMPOUND_INCHIKEY\"].split(\"-\")[0] for element in gnps_list])\n",
    "all_npatlas_keys = set([element[\"COMPOUND_INCHIKEY\"].split(\"-\")[0] for element in npatlas_list])\n",
    "all_npatlas_name = set([element[\"COMPOUND_NAME\"] for element in npatlas_list])"
   ]
  },
  {
   "cell_type": "code",
   "execution_count": 38,
   "metadata": {},
   "outputs": [
    {
     "name": "stdout",
     "output_type": "stream",
     "text": [
      "10024\n",
      "19350\n"
     ]
    }
   ],
   "source": [
    "print(len(all_gnps_keys))\n",
    "print(len(all_npatlas_keys))"
   ]
  },
  {
   "cell_type": "code",
   "execution_count": 40,
   "metadata": {},
   "outputs": [
    {
     "data": {
      "text/plain": [
       "522"
      ]
     },
     "execution_count": 40,
     "metadata": {},
     "output_type": "execute_result"
    }
   ],
   "source": [
    "len(all_gnps_keys.intersection(all_npatlas_keys))"
   ]
  },
  {
   "cell_type": "code",
   "execution_count": 28,
   "metadata": {
    "collapsed": true
   },
   "outputs": [],
   "source": [
    "def find_compound_name(compound_name, compound_df):\n",
    "    filtered_df = compound_df.loc[compound_df['COMPOUND_NAME'] == compound_name]\n",
    "    if len(filtered_df) > 0:\n",
    "        return filtered_df.to_dict(orient=\"records\")\n",
    "    return None\n",
    "\n",
    "def find_inchi_key(inchikey, compound_df):\n",
    "    filtered_df = compound_df.loc[compound_df['COMPOUND_INCHIKEYBLOCK1'] == inchikey.split(\"-\")[0]]\n",
    "    if len(filtered_df) > 0:\n",
    "        return filtered_df.to_dict(orient=\"records\")\n",
    "    return None"
   ]
  },
  {
   "cell_type": "code",
   "execution_count": 36,
   "metadata": {
    "scrolled": true
   },
   "outputs": [
    {
     "name": "stdout",
     "output_type": "stream",
     "text": [
      "Abyssomicin J HEIHBBPLLFNNDR-ONVIIIJXSA-N None\n",
      "Pyochelin VRTHPBIMOLQLGL-MXZFKARLSA-N None\n",
      "Arylomycin A4 FWGUGBNIAQFVCD-VMUCWRCRSA-N None\n",
      "Stenothricin A FKLMOAHXSWVYLL-ASLZBUMRSA-N None\n",
      "Grisorixin NMHMUVNIGSQOII-UHFFFAOYSA-N None\n",
      "Cyclosporin A PMATZTZNYRCHOR-IMVLJIQESA-N None\n",
      "Chromomycin A3 ZYVSOIYQKUDENJ-UHFFFAOYSA-N None\n",
      "Chromomycin A3 ZYVSOIYQKUDENJ-UHFFFAOYSA-N None\n",
      "Chromomycin A3 ZYVSOIYQKUDENJ-UHFFFAOYSA-N None\n",
      "Alanopine FIOHTMQGSFVHEZ-UHFFFAOYSA-N None\n",
      "Alanopine FIOHTMQGSFVHEZ-UHFFFAOYSA-N None\n",
      "Piperazimycin B WZHWJPRBJXEKMW-UHFFFAOYSA-N None\n",
      "Dinactin CTZNINKRTKCWGU-UHFFFAOYSA-N None\n",
      "Lipid A WGSFUVTXMVWHBP-JDEZGVNFSA-N None\n",
      "Bisucaberin GTADQMQBQBOJIO-UHFFFAOYSA-N None\n"
     ]
    },
    {
     "ename": "KeyboardInterrupt",
     "evalue": "",
     "output_type": "error",
     "traceback": [
      "\u001b[0;31m---------------------------------------------------------------------------\u001b[0m",
      "\u001b[0;31mKeyboardInterrupt\u001b[0m                         Traceback (most recent call last)",
      "\u001b[0;32m<ipython-input-36-3593fb227ef4>\u001b[0m in \u001b[0;36m<module>\u001b[0;34m()\u001b[0m\n\u001b[1;32m     10\u001b[0m     \u001b[0mgnps_compound_name\u001b[0m \u001b[0;34m=\u001b[0m \u001b[0mgnps_compound\u001b[0m\u001b[0;34m[\u001b[0m\u001b[0;34m\"COMPOUND_NAME\"\u001b[0m\u001b[0;34m]\u001b[0m\u001b[0;34m\u001b[0m\u001b[0;34m\u001b[0m\u001b[0m\n\u001b[1;32m     11\u001b[0m     \u001b[0mgnps_inchikey\u001b[0m \u001b[0;34m=\u001b[0m \u001b[0mgnps_compound\u001b[0m\u001b[0;34m[\u001b[0m\u001b[0;34m\"COMPOUND_INCHIKEY\"\u001b[0m\u001b[0;34m]\u001b[0m\u001b[0;34m\u001b[0m\u001b[0;34m\u001b[0m\u001b[0m\n\u001b[0;32m---> 12\u001b[0;31m     \u001b[0mnp_atlas_compound_by_name\u001b[0m \u001b[0;34m=\u001b[0m \u001b[0mfind_compound_name\u001b[0m\u001b[0;34m(\u001b[0m\u001b[0mgnps_compound_name\u001b[0m\u001b[0;34m,\u001b[0m \u001b[0mnpatlas_df\u001b[0m\u001b[0;34m)\u001b[0m\u001b[0;34m\u001b[0m\u001b[0;34m\u001b[0m\u001b[0m\n\u001b[0m\u001b[1;32m     13\u001b[0m     \u001b[0mnp_atlas_compound_by_key\u001b[0m \u001b[0;34m=\u001b[0m \u001b[0mfind_inchi_key\u001b[0m\u001b[0;34m(\u001b[0m\u001b[0mgnps_inchikey\u001b[0m\u001b[0;34m,\u001b[0m \u001b[0mnpatlas_df\u001b[0m\u001b[0;34m)\u001b[0m\u001b[0;34m\u001b[0m\u001b[0;34m\u001b[0m\u001b[0m\n\u001b[1;32m     14\u001b[0m \u001b[0;34m\u001b[0m\u001b[0m\n",
      "\u001b[0;32m<ipython-input-28-b56383395eab>\u001b[0m in \u001b[0;36mfind_compound_name\u001b[0;34m(compound_name, compound_df)\u001b[0m\n\u001b[1;32m      1\u001b[0m \u001b[0;32mdef\u001b[0m \u001b[0mfind_compound_name\u001b[0m\u001b[0;34m(\u001b[0m\u001b[0mcompound_name\u001b[0m\u001b[0;34m,\u001b[0m \u001b[0mcompound_df\u001b[0m\u001b[0;34m)\u001b[0m\u001b[0;34m:\u001b[0m\u001b[0;34m\u001b[0m\u001b[0;34m\u001b[0m\u001b[0m\n\u001b[0;32m----> 2\u001b[0;31m     \u001b[0mfiltered_df\u001b[0m \u001b[0;34m=\u001b[0m \u001b[0mcompound_df\u001b[0m\u001b[0;34m.\u001b[0m\u001b[0mloc\u001b[0m\u001b[0;34m[\u001b[0m\u001b[0mcompound_df\u001b[0m\u001b[0;34m[\u001b[0m\u001b[0;34m'COMPOUND_NAME'\u001b[0m\u001b[0;34m]\u001b[0m \u001b[0;34m==\u001b[0m \u001b[0mcompound_name\u001b[0m\u001b[0;34m]\u001b[0m\u001b[0;34m\u001b[0m\u001b[0;34m\u001b[0m\u001b[0m\n\u001b[0m\u001b[1;32m      3\u001b[0m     \u001b[0;32mif\u001b[0m \u001b[0mlen\u001b[0m\u001b[0;34m(\u001b[0m\u001b[0mfiltered_df\u001b[0m\u001b[0;34m)\u001b[0m \u001b[0;34m>\u001b[0m \u001b[0;36m0\u001b[0m\u001b[0;34m:\u001b[0m\u001b[0;34m\u001b[0m\u001b[0;34m\u001b[0m\u001b[0m\n\u001b[1;32m      4\u001b[0m         \u001b[0;32mreturn\u001b[0m \u001b[0mfiltered_df\u001b[0m\u001b[0;34m.\u001b[0m\u001b[0mto_dict\u001b[0m\u001b[0;34m(\u001b[0m\u001b[0morient\u001b[0m\u001b[0;34m=\u001b[0m\u001b[0;34m\"records\"\u001b[0m\u001b[0;34m)\u001b[0m\u001b[0;34m\u001b[0m\u001b[0;34m\u001b[0m\u001b[0m\n\u001b[1;32m      5\u001b[0m     \u001b[0;32mreturn\u001b[0m \u001b[0;32mNone\u001b[0m\u001b[0;34m\u001b[0m\u001b[0;34m\u001b[0m\u001b[0m\n",
      "\u001b[0;32m/Users/mingxun/anaconda/lib/python3.6/site-packages/pandas/core/ops.py\u001b[0m in \u001b[0;36mwrapper\u001b[0;34m(self, other, axis)\u001b[0m\n\u001b[1;32m   1764\u001b[0m \u001b[0;34m\u001b[0m\u001b[0m\n\u001b[1;32m   1765\u001b[0m             \u001b[0;32mwith\u001b[0m \u001b[0mnp\u001b[0m\u001b[0;34m.\u001b[0m\u001b[0merrstate\u001b[0m\u001b[0;34m(\u001b[0m\u001b[0mall\u001b[0m\u001b[0;34m=\u001b[0m\u001b[0;34m'ignore'\u001b[0m\u001b[0;34m)\u001b[0m\u001b[0;34m:\u001b[0m\u001b[0;34m\u001b[0m\u001b[0;34m\u001b[0m\u001b[0m\n\u001b[0;32m-> 1766\u001b[0;31m                 \u001b[0mres\u001b[0m \u001b[0;34m=\u001b[0m \u001b[0mna_op\u001b[0m\u001b[0;34m(\u001b[0m\u001b[0mvalues\u001b[0m\u001b[0;34m,\u001b[0m \u001b[0mother\u001b[0m\u001b[0;34m)\u001b[0m\u001b[0;34m\u001b[0m\u001b[0;34m\u001b[0m\u001b[0m\n\u001b[0m\u001b[1;32m   1767\u001b[0m             \u001b[0;32mif\u001b[0m \u001b[0mis_scalar\u001b[0m\u001b[0;34m(\u001b[0m\u001b[0mres\u001b[0m\u001b[0;34m)\u001b[0m\u001b[0;34m:\u001b[0m\u001b[0;34m\u001b[0m\u001b[0;34m\u001b[0m\u001b[0m\n\u001b[1;32m   1768\u001b[0m                 raise TypeError('Could not compare {typ} type with Series'\n",
      "\u001b[0;32m/Users/mingxun/anaconda/lib/python3.6/site-packages/pandas/core/ops.py\u001b[0m in \u001b[0;36mna_op\u001b[0;34m(x, y)\u001b[0m\n\u001b[1;32m   1623\u001b[0m \u001b[0;34m\u001b[0m\u001b[0m\n\u001b[1;32m   1624\u001b[0m         \u001b[0;32mif\u001b[0m \u001b[0mis_object_dtype\u001b[0m\u001b[0;34m(\u001b[0m\u001b[0mx\u001b[0m\u001b[0;34m.\u001b[0m\u001b[0mdtype\u001b[0m\u001b[0;34m)\u001b[0m\u001b[0;34m:\u001b[0m\u001b[0;34m\u001b[0m\u001b[0;34m\u001b[0m\u001b[0m\n\u001b[0;32m-> 1625\u001b[0;31m             \u001b[0mresult\u001b[0m \u001b[0;34m=\u001b[0m \u001b[0m_comp_method_OBJECT_ARRAY\u001b[0m\u001b[0;34m(\u001b[0m\u001b[0mop\u001b[0m\u001b[0;34m,\u001b[0m \u001b[0mx\u001b[0m\u001b[0;34m,\u001b[0m \u001b[0my\u001b[0m\u001b[0;34m)\u001b[0m\u001b[0;34m\u001b[0m\u001b[0;34m\u001b[0m\u001b[0m\n\u001b[0m\u001b[1;32m   1626\u001b[0m \u001b[0;34m\u001b[0m\u001b[0m\n\u001b[1;32m   1627\u001b[0m         \u001b[0;32melif\u001b[0m \u001b[0mis_datetimelike_v_numeric\u001b[0m\u001b[0;34m(\u001b[0m\u001b[0mx\u001b[0m\u001b[0;34m,\u001b[0m \u001b[0my\u001b[0m\u001b[0;34m)\u001b[0m\u001b[0;34m:\u001b[0m\u001b[0;34m\u001b[0m\u001b[0;34m\u001b[0m\u001b[0m\n",
      "\u001b[0;32m/Users/mingxun/anaconda/lib/python3.6/site-packages/pandas/core/ops.py\u001b[0m in \u001b[0;36m_comp_method_OBJECT_ARRAY\u001b[0;34m(op, x, y)\u001b[0m\n\u001b[1;32m   1601\u001b[0m         \u001b[0mresult\u001b[0m \u001b[0;34m=\u001b[0m \u001b[0mlibops\u001b[0m\u001b[0;34m.\u001b[0m\u001b[0mvec_compare\u001b[0m\u001b[0;34m(\u001b[0m\u001b[0mx\u001b[0m\u001b[0;34m,\u001b[0m \u001b[0my\u001b[0m\u001b[0;34m,\u001b[0m \u001b[0mop\u001b[0m\u001b[0;34m)\u001b[0m\u001b[0;34m\u001b[0m\u001b[0;34m\u001b[0m\u001b[0m\n\u001b[1;32m   1602\u001b[0m     \u001b[0;32melse\u001b[0m\u001b[0;34m:\u001b[0m\u001b[0;34m\u001b[0m\u001b[0;34m\u001b[0m\u001b[0m\n\u001b[0;32m-> 1603\u001b[0;31m         \u001b[0mresult\u001b[0m \u001b[0;34m=\u001b[0m \u001b[0mlibops\u001b[0m\u001b[0;34m.\u001b[0m\u001b[0mscalar_compare\u001b[0m\u001b[0;34m(\u001b[0m\u001b[0mx\u001b[0m\u001b[0;34m,\u001b[0m \u001b[0my\u001b[0m\u001b[0;34m,\u001b[0m \u001b[0mop\u001b[0m\u001b[0;34m)\u001b[0m\u001b[0;34m\u001b[0m\u001b[0;34m\u001b[0m\u001b[0m\n\u001b[0m\u001b[1;32m   1604\u001b[0m     \u001b[0;32mreturn\u001b[0m \u001b[0mresult\u001b[0m\u001b[0;34m\u001b[0m\u001b[0;34m\u001b[0m\u001b[0m\n\u001b[1;32m   1605\u001b[0m \u001b[0;34m\u001b[0m\u001b[0m\n",
      "\u001b[0;31mKeyboardInterrupt\u001b[0m: "
     ]
    }
   ],
   "source": [
    "#Trying to determine if we can find discordant annotations\n",
    "found_in_npatlas = []\n",
    "npatlas_df = pd.DataFrame(npatlas_list)\n",
    "npatlas_df['COMPOUND_INCHIKEYBLOCK1'] = npatlas_df.apply(lambda x: x[\"COMPOUND_INCHIKEY\"].split(\"-\")[0], axis=1)\n",
    "\n",
    "for gnps_compound in gnps_list:\n",
    "    gnps_compound_name = gnps_compound[\"COMPOUND_NAME\"]\n",
    "    gnps_inchikey = gnps_compound[\"COMPOUND_INCHIKEY\"]\n",
    "    np_atlas_compound_by_name = find_compound_name(gnps_compound_name, npatlas_df)\n",
    "    np_atlas_compound_by_key = find_inchi_key(gnps_inchikey, npatlas_df)\n",
    "\n",
    "    if np_atlas_compound_by_key != None:\n",
    "        found_in_npatlas.append(gnps_compound)\n",
    "        continue\n",
    "    \n",
    "    if np_atlas_compound_by_name != None:\n",
    "        #print(gnps_compound_name, np_atlas_compound_by_name, np_atlas_compound_by_key)\n",
    "        print(gnps_compound_name, gnps_inchikey, np_atlas_compound_by_key)\n"
   ]
  },
  {
   "cell_type": "code",
   "execution_count": 50,
   "metadata": {
    "collapsed": true
   },
   "outputs": [],
   "source": [
    "#Trying to determine if we can upgrade structures\n",
    "\n",
    "r = requests.get(\"http://dorresteinappshub.ucsd.edu:5010/gnpslibraryformattedjson\")\n",
    "all_gnps_without_structure_fiter = r.json()"
   ]
  },
  {
   "cell_type": "code",
   "execution_count": 61,
   "metadata": {},
   "outputs": [
    {
     "data": {
      "text/plain": [
       "14543449"
      ]
     },
     "execution_count": 61,
     "metadata": {},
     "output_type": "execute_result"
    }
   ],
   "source": [
    "count = 1\n",
    "for gnps_compound in all_gnps_without_structure_fiter:\n",
    "    gnps_compound_name = gnps_compound[\"COMPOUND_NAME\"]\n",
    "    gnps_inchikey = gnps_compound[\"COMPOUND_INCHIKEY\"]\n",
    "    gnps_inchikeyblock1 = gnps_inchikey.split(\"-\")[0]\n",
    "    \n",
    "    if gnps_compound_name in all_npatlas_name:\n",
    "        np_atlas_compound_by_name = find_compound_name(gnps_compound_name, npatlas_df)\n",
    "        npatlas_inchikeyblock1 = np_atlas_compound_by_name[0][\"COMPOUND_INCHIKEYBLOCK1\"]\n",
    "        \n",
    "        if gnps_inchikeyblock1 != npatlas_inchikeyblock1 and gnps_inchikeyblock1 == \"None\":\n",
    "            count += 1\n",
    "            print(gnps_compound_name, gnps_compound[\"GNPSID\"], gnps_inchikeyblock1, npatlas_inchikeyblock1, count)\n",
    "            gnps_compound[\"COMPOUND_INCHIKEY\"] = np_atlas_compound_by_name[0][\"COMPOUND_INCHIKEY\"]\n",
    "\n",
    "filtered_gnps_with_npatlas_structures = [compound for compound in all_gnps_without_structure_fiter if len(compound[\"COMPOUND_INCHIKEY\"]) > 10]\n",
    "open(\"gnpslibraryjson_filteredv2.json\", \"w\").write(json.dumps(filtered_gnps_with_npatlas_structures))"
   ]
  },
  {
   "cell_type": "code",
   "execution_count": null,
   "metadata": {
    "collapsed": true
   },
   "outputs": [],
   "source": []
  }
 ],
 "metadata": {
  "kernelspec": {
   "display_name": "Python 3",
   "language": "python",
   "name": "python3"
  },
  "language_info": {
   "codemirror_mode": {
    "name": "ipython",
    "version": 3
   },
   "file_extension": ".py",
   "mimetype": "text/x-python",
   "name": "python",
   "nbconvert_exporter": "python",
   "pygments_lexer": "ipython3",
   "version": "3.6.8"
  }
 },
 "nbformat": 4,
 "nbformat_minor": 2
}
